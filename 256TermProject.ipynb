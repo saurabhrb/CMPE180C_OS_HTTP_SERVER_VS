{
 "cells": [
  {
   "cell_type": "markdown",
   "metadata": {},
   "source": [
    "# Amazon Review Classification\n",
    "\n",
    "### Aim\n",
    "Classify Amazon Reviews into 1 star or 5 star categories based off the text content in the reviews.\n",
    "\n",
    "### Dataset\n",
    "[Yelp Review Data Set from Kaggle](https://www.kaggle.com/c/yelp-recsys-2013)\n",
    "\n",
    "### Information about the dataset\n",
    "\n",
    "- Each observation in this dataset is a review of a particular business by a particular user.\n",
    "\n",
    "- The \"stars\" column is the number of stars (1 through 5) assigned by the reviewer to the business. (Higher stars is better.) In other words, it is the rating of the business by the person who wrote the review.\n",
    "\n",
    "- The \"cool\" column is the number of \"cool\" votes this review received from other Yelp users. \n",
    "\n",
    "- All reviews start with 0 \"cool\" votes, and there is no limit to how many \"cool\" votes a review can receive. In other words, it is a rating of the review itself, not a rating of the business.\n",
    "\n",
    "- The \"useful\" and \"funny\" columns are similar to the \"cool\" column."
   ]
  },
  {
   "cell_type": "markdown",
   "metadata": {},
   "source": [
    "## Imports"
   ]
  },
  {
   "cell_type": "code",
   "execution_count": 1,
   "metadata": {
    "collapsed": true
   },
   "outputs": [],
   "source": [
    "import pandas as pd\n",
    "import numpy as np\n",
    "import matplotlib.pyplot as plt\n",
    "import seaborn as sns\n",
    "\n",
    "import nltk\n",
    "from nltk.corpus import stopwords\n",
    "import string\n",
    "\n",
    "%matplotlib inline\n",
    "%config InlineBackend.figure_format='retina'"
   ]
  },
  {
   "cell_type": "markdown",
   "metadata": {},
   "source": [
    "## Importing the data"
   ]
  },
  {
   "cell_type": "code",
   "execution_count": 2,
   "metadata": {
    "collapsed": true
   },
   "outputs": [],
   "source": [
    "amazon = pd.read_csv('MOBILEPHONE.csv')"
   ]
  },
  {
   "cell_type": "code",
   "execution_count": 3,
   "metadata": {},
   "outputs": [
    {
     "data": {
      "text/plain": [
       "(186016, 6)"
      ]
     },
     "execution_count": 3,
     "metadata": {},
     "output_type": "execute_result"
    }
   ],
   "source": [
    "amazon.shape"
   ]
  },
  {
   "cell_type": "code",
   "execution_count": 4,
   "metadata": {},
   "outputs": [
    {
     "data": {
      "text/html": [
       "<div>\n",
       "<style>\n",
       "    .dataframe thead tr:only-child th {\n",
       "        text-align: right;\n",
       "    }\n",
       "\n",
       "    .dataframe thead th {\n",
       "        text-align: left;\n",
       "    }\n",
       "\n",
       "    .dataframe tbody tr th {\n",
       "        vertical-align: top;\n",
       "    }\n",
       "</style>\n",
       "<table border=\"1\" class=\"dataframe\">\n",
       "  <thead>\n",
       "    <tr style=\"text-align: right;\">\n",
       "      <th></th>\n",
       "      <th>Title</th>\n",
       "      <th>Author</th>\n",
       "      <th>ReviewID</th>\n",
       "      <th>Overall</th>\n",
       "      <th>Content</th>\n",
       "      <th>Date</th>\n",
       "    </tr>\n",
       "  </thead>\n",
       "  <tbody>\n",
       "    <tr>\n",
       "      <th>0</th>\n",
       "      <td>Great</td>\n",
       "      <td>Dustin</td>\n",
       "      <td>RYYNWQWW6LAC1</td>\n",
       "      <td>5</td>\n",
       "      <td>Product came exactly as described and would re...</td>\n",
       "      <td>41708.0</td>\n",
       "    </tr>\n",
       "    <tr>\n",
       "      <th>1</th>\n",
       "      <td>Excellent phone.</td>\n",
       "      <td>Lancerman</td>\n",
       "      <td>R2G160TW2JWGD8</td>\n",
       "      <td>5</td>\n",
       "      <td>I am very pleased with the phone we received. ...</td>\n",
       "      <td>41725.0</td>\n",
       "    </tr>\n",
       "    <tr>\n",
       "      <th>2</th>\n",
       "      <td>As described and a great phone</td>\n",
       "      <td>Maranda</td>\n",
       "      <td>R3P9IS2JNG68K2</td>\n",
       "      <td>5</td>\n",
       "      <td>The Samsung Galazy S3 is one of the best phone...</td>\n",
       "      <td>41732.0</td>\n",
       "    </tr>\n",
       "    <tr>\n",
       "      <th>3</th>\n",
       "      <td>nice television for the price</td>\n",
       "      <td>Jackie C</td>\n",
       "      <td>R3LDJA7HU2Q0FS</td>\n",
       "      <td>4</td>\n",
       "      <td>The television was a refurbished one, and for ...</td>\n",
       "      <td>41742.0</td>\n",
       "    </tr>\n",
       "    <tr>\n",
       "      <th>4</th>\n",
       "      <td>Service and product quality very good.</td>\n",
       "      <td>Sonja Trokey</td>\n",
       "      <td>RAQB0MR9LGA2G</td>\n",
       "      <td>4</td>\n",
       "      <td>Delivery was very prompt.  The picture of this...</td>\n",
       "      <td>41730.0</td>\n",
       "    </tr>\n",
       "  </tbody>\n",
       "</table>\n",
       "</div>"
      ],
      "text/plain": [
       "                                    Title        Author        ReviewID  \\\n",
       "0                                   Great        Dustin   RYYNWQWW6LAC1   \n",
       "1                        Excellent phone.     Lancerman  R2G160TW2JWGD8   \n",
       "2          As described and a great phone       Maranda  R3P9IS2JNG68K2   \n",
       "3           nice television for the price      Jackie C  R3LDJA7HU2Q0FS   \n",
       "4  Service and product quality very good.  Sonja Trokey   RAQB0MR9LGA2G   \n",
       "\n",
       "   Overall                                            Content     Date  \n",
       "0        5  Product came exactly as described and would re...  41708.0  \n",
       "1        5  I am very pleased with the phone we received. ...  41725.0  \n",
       "2        5  The Samsung Galazy S3 is one of the best phone...  41732.0  \n",
       "3        4  The television was a refurbished one, and for ...  41742.0  \n",
       "4        4  Delivery was very prompt.  The picture of this...  41730.0  "
      ]
     },
     "execution_count": 4,
     "metadata": {},
     "output_type": "execute_result"
    }
   ],
   "source": [
    "amazon.head()"
   ]
  },
  {
   "cell_type": "code",
   "execution_count": 5,
   "metadata": {},
   "outputs": [
    {
     "name": "stdout",
     "output_type": "stream",
     "text": [
      "<class 'pandas.core.frame.DataFrame'>\n",
      "RangeIndex: 186016 entries, 0 to 186015\n",
      "Data columns (total 6 columns):\n",
      "Title       186011 non-null object\n",
      "Author      185714 non-null object\n",
      "ReviewID    186016 non-null object\n",
      "Overall     186016 non-null int64\n",
      "Content     185993 non-null object\n",
      "Date        186015 non-null float64\n",
      "dtypes: float64(1), int64(1), object(4)\n",
      "memory usage: 8.5+ MB\n"
     ]
    }
   ],
   "source": [
    "amazon.info()"
   ]
  },
  {
   "cell_type": "code",
   "execution_count": 6,
   "metadata": {},
   "outputs": [
    {
     "data": {
      "text/html": [
       "<div>\n",
       "<style>\n",
       "    .dataframe thead tr:only-child th {\n",
       "        text-align: right;\n",
       "    }\n",
       "\n",
       "    .dataframe thead th {\n",
       "        text-align: left;\n",
       "    }\n",
       "\n",
       "    .dataframe tbody tr th {\n",
       "        vertical-align: top;\n",
       "    }\n",
       "</style>\n",
       "<table border=\"1\" class=\"dataframe\">\n",
       "  <thead>\n",
       "    <tr style=\"text-align: right;\">\n",
       "      <th></th>\n",
       "      <th>Overall</th>\n",
       "      <th>Date</th>\n",
       "    </tr>\n",
       "  </thead>\n",
       "  <tbody>\n",
       "    <tr>\n",
       "      <th>count</th>\n",
       "      <td>186016.000000</td>\n",
       "      <td>186015.000000</td>\n",
       "    </tr>\n",
       "    <tr>\n",
       "      <th>mean</th>\n",
       "      <td>3.634908</td>\n",
       "      <td>41308.040916</td>\n",
       "    </tr>\n",
       "    <tr>\n",
       "      <th>std</th>\n",
       "      <td>1.563230</td>\n",
       "      <td>534.339029</td>\n",
       "    </tr>\n",
       "    <tr>\n",
       "      <th>min</th>\n",
       "      <td>1.000000</td>\n",
       "      <td>36690.000000</td>\n",
       "    </tr>\n",
       "    <tr>\n",
       "      <th>25%</th>\n",
       "      <td>2.000000</td>\n",
       "      <td>41196.000000</td>\n",
       "    </tr>\n",
       "    <tr>\n",
       "      <th>50%</th>\n",
       "      <td>4.000000</td>\n",
       "      <td>41459.000000</td>\n",
       "    </tr>\n",
       "    <tr>\n",
       "      <th>75%</th>\n",
       "      <td>5.000000</td>\n",
       "      <td>41648.000000</td>\n",
       "    </tr>\n",
       "    <tr>\n",
       "      <th>max</th>\n",
       "      <td>5.000000</td>\n",
       "      <td>41803.000000</td>\n",
       "    </tr>\n",
       "  </tbody>\n",
       "</table>\n",
       "</div>"
      ],
      "text/plain": [
       "             Overall           Date\n",
       "count  186016.000000  186015.000000\n",
       "mean        3.634908   41308.040916\n",
       "std         1.563230     534.339029\n",
       "min         1.000000   36690.000000\n",
       "25%         2.000000   41196.000000\n",
       "50%         4.000000   41459.000000\n",
       "75%         5.000000   41648.000000\n",
       "max         5.000000   41803.000000"
      ]
     },
     "execution_count": 6,
     "metadata": {},
     "output_type": "execute_result"
    }
   ],
   "source": [
    "amazon.describe()"
   ]
  },
  {
   "cell_type": "markdown",
   "metadata": {},
   "source": [
    "**Create a new column called \"text length\" which is the number of words in the \"text\" column.**"
   ]
  },
  {
   "cell_type": "code",
   "execution_count": 7,
   "metadata": {
    "collapsed": true
   },
   "outputs": [],
   "source": [
    "amazon['text length'] = amazon['Content'].str.len()"
   ]
  },
  {
   "cell_type": "code",
   "execution_count": 8,
   "metadata": {},
   "outputs": [
    {
     "data": {
      "text/html": [
       "<div>\n",
       "<style>\n",
       "    .dataframe thead tr:only-child th {\n",
       "        text-align: right;\n",
       "    }\n",
       "\n",
       "    .dataframe thead th {\n",
       "        text-align: left;\n",
       "    }\n",
       "\n",
       "    .dataframe tbody tr th {\n",
       "        vertical-align: top;\n",
       "    }\n",
       "</style>\n",
       "<table border=\"1\" class=\"dataframe\">\n",
       "  <thead>\n",
       "    <tr style=\"text-align: right;\">\n",
       "      <th></th>\n",
       "      <th>Title</th>\n",
       "      <th>Author</th>\n",
       "      <th>ReviewID</th>\n",
       "      <th>Overall</th>\n",
       "      <th>Content</th>\n",
       "      <th>Date</th>\n",
       "      <th>text length</th>\n",
       "    </tr>\n",
       "  </thead>\n",
       "  <tbody>\n",
       "    <tr>\n",
       "      <th>0</th>\n",
       "      <td>Great</td>\n",
       "      <td>Dustin</td>\n",
       "      <td>RYYNWQWW6LAC1</td>\n",
       "      <td>5</td>\n",
       "      <td>Product came exactly as described and would re...</td>\n",
       "      <td>41708.0</td>\n",
       "      <td>138.0</td>\n",
       "    </tr>\n",
       "    <tr>\n",
       "      <th>1</th>\n",
       "      <td>Excellent phone.</td>\n",
       "      <td>Lancerman</td>\n",
       "      <td>R2G160TW2JWGD8</td>\n",
       "      <td>5</td>\n",
       "      <td>I am very pleased with the phone we received. ...</td>\n",
       "      <td>41725.0</td>\n",
       "      <td>943.0</td>\n",
       "    </tr>\n",
       "    <tr>\n",
       "      <th>2</th>\n",
       "      <td>As described and a great phone</td>\n",
       "      <td>Maranda</td>\n",
       "      <td>R3P9IS2JNG68K2</td>\n",
       "      <td>5</td>\n",
       "      <td>The Samsung Galazy S3 is one of the best phone...</td>\n",
       "      <td>41732.0</td>\n",
       "      <td>121.0</td>\n",
       "    </tr>\n",
       "    <tr>\n",
       "      <th>3</th>\n",
       "      <td>nice television for the price</td>\n",
       "      <td>Jackie C</td>\n",
       "      <td>R3LDJA7HU2Q0FS</td>\n",
       "      <td>4</td>\n",
       "      <td>The television was a refurbished one, and for ...</td>\n",
       "      <td>41742.0</td>\n",
       "      <td>223.0</td>\n",
       "    </tr>\n",
       "    <tr>\n",
       "      <th>4</th>\n",
       "      <td>Service and product quality very good.</td>\n",
       "      <td>Sonja Trokey</td>\n",
       "      <td>RAQB0MR9LGA2G</td>\n",
       "      <td>4</td>\n",
       "      <td>Delivery was very prompt.  The picture of this...</td>\n",
       "      <td>41730.0</td>\n",
       "      <td>139.0</td>\n",
       "    </tr>\n",
       "  </tbody>\n",
       "</table>\n",
       "</div>"
      ],
      "text/plain": [
       "                                    Title        Author        ReviewID  \\\n",
       "0                                   Great        Dustin   RYYNWQWW6LAC1   \n",
       "1                        Excellent phone.     Lancerman  R2G160TW2JWGD8   \n",
       "2          As described and a great phone       Maranda  R3P9IS2JNG68K2   \n",
       "3           nice television for the price      Jackie C  R3LDJA7HU2Q0FS   \n",
       "4  Service and product quality very good.  Sonja Trokey   RAQB0MR9LGA2G   \n",
       "\n",
       "   Overall                                            Content     Date  \\\n",
       "0        5  Product came exactly as described and would re...  41708.0   \n",
       "1        5  I am very pleased with the phone we received. ...  41725.0   \n",
       "2        5  The Samsung Galazy S3 is one of the best phone...  41732.0   \n",
       "3        4  The television was a refurbished one, and for ...  41742.0   \n",
       "4        4  Delivery was very prompt.  The picture of this...  41730.0   \n",
       "\n",
       "   text length  \n",
       "0        138.0  \n",
       "1        943.0  \n",
       "2        121.0  \n",
       "3        223.0  \n",
       "4        139.0  "
      ]
     },
     "execution_count": 8,
     "metadata": {},
     "output_type": "execute_result"
    }
   ],
   "source": [
    "amazon.head()"
   ]
  },
  {
   "cell_type": "markdown",
   "metadata": {},
   "source": [
    "# Exploratory data analysis"
   ]
  },
  {
   "cell_type": "markdown",
   "metadata": {},
   "source": [
    "Compare text length for each star rating (using histograms and boxplot)"
   ]
  },
  {
   "cell_type": "code",
   "execution_count": 9,
   "metadata": {},
   "outputs": [
    {
     "data": {
      "image/png": "[encoded data removed]",
      "text/plain": [
       "<matplotlib.figure.Figure at 0x1a153ea5f8>"
      ]
     },
     "metadata": {
      "image/png": {
       "height": 207,
       "width": 1072
      }
     },
     "output_type": "display_data"
    }
   ],
   "source": [
    "g = sns.FacetGrid(data=amazon, col='Overall')\n",
    "g.map(plt.hist, 'text length', bins=50, color='#28546E')\n",
    "plt.savefig('stars_textlen', dpi=200)"
   ]
  },
  {
   "cell_type": "code",
   "execution_count": 10,
   "metadata": {},
   "outputs": [
    {
     "data": {
      "image/png": "[encoded data removed]",
      "text/plain": [
       "<matplotlib.figure.Figure at 0x1a1538e160>"
      ]
     },
     "metadata": {
      "image/png": {
       "height": 263,
       "width": 397
      }
     },
     "output_type": "display_data"
    }
   ],
   "source": [
    "sns.boxplot(x='Overall', y='text length', data=amazon, palette=sns.cubehelix_palette(9, start=.4, rot=-.70, reverse=True, light=0.85, dark=0.25))\n",
    "plt.savefig('stars_textlen_box', dpi=200)"
   ]
  },
  {
   "cell_type": "markdown",
   "metadata": {},
   "source": [
    "Create a countplot of the number of occurrences for each type of star rating."
   ]
  },
  {
   "cell_type": "code",
   "execution_count": 11,
   "metadata": {},
   "outputs": [
    {
     "data": {
      "text/plain": [
       "<matplotlib.axes._subplots.AxesSubplot at 0x1a1d9e15c0>"
      ]
     },
     "execution_count": 11,
     "metadata": {},
     "output_type": "execute_result"
    },
    {
     "data": {
      "image/png": "[encoded data removed]",
      "text/plain": [
       "<matplotlib.figure.Figure at 0x1a156dd390>"
      ]
     },
     "metadata": {
      "image/png": {
       "height": 263,
       "width": 403
      }
     },
     "output_type": "display_data"
    }
   ],
   "source": [
    "sns.countplot(x='Overall', data=amazon, palette=sns.cubehelix_palette(9, start=.4, rot=-.70, reverse=True, light=0.85, dark=0.25))"
   ]
  },
  {
   "cell_type": "markdown",
   "metadata": {},
   "source": [
    "**Get the mean values of the numerical columns**"
   ]
  },
  {
   "cell_type": "markdown",
   "metadata": {},
   "source": [
    "Find correlations between numeric columns in the stars dataframe"
   ]
  },
  {
   "cell_type": "markdown",
   "metadata": {},
   "source": [
    "## NLP Classification Task\n",
    "\n",
    "Create a dataframe for only the 1 or 5 star reviews."
   ]
  },
  {
   "cell_type": "code",
   "execution_count": 12,
   "metadata": {
    "collapsed": true
   },
   "outputs": [],
   "source": [
    "amazon_class = amazon[(amazon['Overall'] == 1) | (amazon['Overall'] == 5)]"
   ]
  },
  {
   "cell_type": "code",
   "execution_count": 13,
   "metadata": {},
   "outputs": [
    {
     "data": {
      "text/html": [
       "<div>\n",
       "<style>\n",
       "    .dataframe thead tr:only-child th {\n",
       "        text-align: right;\n",
       "    }\n",
       "\n",
       "    .dataframe thead th {\n",
       "        text-align: left;\n",
       "    }\n",
       "\n",
       "    .dataframe tbody tr th {\n",
       "        vertical-align: top;\n",
       "    }\n",
       "</style>\n",
       "<table border=\"1\" class=\"dataframe\">\n",
       "  <thead>\n",
       "    <tr style=\"text-align: right;\">\n",
       "      <th></th>\n",
       "      <th>Title</th>\n",
       "      <th>Author</th>\n",
       "      <th>ReviewID</th>\n",
       "      <th>Overall</th>\n",
       "      <th>Content</th>\n",
       "      <th>Date</th>\n",
       "      <th>text length</th>\n",
       "    </tr>\n",
       "  </thead>\n",
       "  <tbody>\n",
       "    <tr>\n",
       "      <th>0</th>\n",
       "      <td>Great</td>\n",
       "      <td>Dustin</td>\n",
       "      <td>RYYNWQWW6LAC1</td>\n",
       "      <td>5</td>\n",
       "      <td>Product came exactly as described and would re...</td>\n",
       "      <td>41708.0</td>\n",
       "      <td>138.0</td>\n",
       "    </tr>\n",
       "    <tr>\n",
       "      <th>1</th>\n",
       "      <td>Excellent phone.</td>\n",
       "      <td>Lancerman</td>\n",
       "      <td>R2G160TW2JWGD8</td>\n",
       "      <td>5</td>\n",
       "      <td>I am very pleased with the phone we received. ...</td>\n",
       "      <td>41725.0</td>\n",
       "      <td>943.0</td>\n",
       "    </tr>\n",
       "    <tr>\n",
       "      <th>2</th>\n",
       "      <td>As described and a great phone</td>\n",
       "      <td>Maranda</td>\n",
       "      <td>R3P9IS2JNG68K2</td>\n",
       "      <td>5</td>\n",
       "      <td>The Samsung Galazy S3 is one of the best phone...</td>\n",
       "      <td>41732.0</td>\n",
       "      <td>121.0</td>\n",
       "    </tr>\n",
       "    <tr>\n",
       "      <th>5</th>\n",
       "      <td>Don't buy it!</td>\n",
       "      <td>RrB</td>\n",
       "      <td>R2SNXGY9Z3IRMR</td>\n",
       "      <td>1</td>\n",
       "      <td>This phone is the biggest piece of junk I have...</td>\n",
       "      <td>40905.0</td>\n",
       "      <td>1284.0</td>\n",
       "    </tr>\n",
       "    <tr>\n",
       "      <th>6</th>\n",
       "      <td>Great Buy if you don't want to be Suckered int...</td>\n",
       "      <td>Peter</td>\n",
       "      <td>RI8F7YL5KZ7TB</td>\n",
       "      <td>5</td>\n",
       "      <td>From the Moment I opened the box, I fell head ...</td>\n",
       "      <td>40497.0</td>\n",
       "      <td>174.0</td>\n",
       "    </tr>\n",
       "  </tbody>\n",
       "</table>\n",
       "</div>"
      ],
      "text/plain": [
       "                                               Title     Author  \\\n",
       "0                                              Great     Dustin   \n",
       "1                                   Excellent phone.  Lancerman   \n",
       "2                     As described and a great phone    Maranda   \n",
       "5                                      Don't buy it!        RrB   \n",
       "6  Great Buy if you don't want to be Suckered int...      Peter   \n",
       "\n",
       "         ReviewID  Overall                                            Content  \\\n",
       "0   RYYNWQWW6LAC1        5  Product came exactly as described and would re...   \n",
       "1  R2G160TW2JWGD8        5  I am very pleased with the phone we received. ...   \n",
       "2  R3P9IS2JNG68K2        5  The Samsung Galazy S3 is one of the best phone...   \n",
       "5  R2SNXGY9Z3IRMR        1  This phone is the biggest piece of junk I have...   \n",
       "6   RI8F7YL5KZ7TB        5  From the Moment I opened the box, I fell head ...   \n",
       "\n",
       "      Date  text length  \n",
       "0  41708.0        138.0  \n",
       "1  41725.0        943.0  \n",
       "2  41732.0        121.0  \n",
       "5  40905.0       1284.0  \n",
       "6  40497.0        174.0  "
      ]
     },
     "execution_count": 13,
     "metadata": {},
     "output_type": "execute_result"
    }
   ],
   "source": [
    "amazon_class.head()"
   ]
  },
  {
   "cell_type": "code",
   "execution_count": 14,
   "metadata": {},
   "outputs": [
    {
     "data": {
      "text/plain": [
       "(120316, 7)"
      ]
     },
     "execution_count": 14,
     "metadata": {},
     "output_type": "execute_result"
    }
   ],
   "source": [
    "amazon_class.shape"
   ]
  },
  {
   "cell_type": "code",
   "execution_count": 15,
   "metadata": {},
   "outputs": [
    {
     "data": {
      "text/plain": [
       "array([5, 1])"
      ]
     },
     "execution_count": 15,
     "metadata": {},
     "output_type": "execute_result"
    }
   ],
   "source": [
    "amazon_class['Overall'].unique()"
   ]
  },
  {
   "cell_type": "markdown",
   "metadata": {},
   "source": [
    "Separate data into X and y"
   ]
  },
  {
   "cell_type": "code",
   "execution_count": 16,
   "metadata": {
    "collapsed": true
   },
   "outputs": [],
   "source": [
    "X = amazon_class['Content']\n",
    "y = amazon_class['Overall']"
   ]
  },
  {
   "cell_type": "code",
   "execution_count": 17,
   "metadata": {},
   "outputs": [
    {
     "data": {
      "text/plain": [
       "'Product came exactly as described and would recommend getting this if you like yourself a galaxy s3 and I would give this product a 5 star'"
      ]
     },
     "execution_count": 17,
     "metadata": {},
     "output_type": "execute_result"
    }
   ],
   "source": [
    "X[0]"
   ]
  },
  {
   "cell_type": "markdown",
   "metadata": {},
   "source": [
    "## Text processing\n",
    "Remove stopwords and punctuations, then return a vector of tokens"
   ]
  },
  {
   "cell_type": "code",
   "execution_count": 18,
   "metadata": {},
   "outputs": [
    {
     "name": "stdout",
     "output_type": "stream",
     "text": [
      "[nltk_data] Downloading package stopwords to\n",
      "[nltk_data]     /Users/divyabharti/nltk_data...\n",
      "[nltk_data]   Package stopwords is already up-to-date!\n"
     ]
    }
   ],
   "source": [
    "nltk.download('stopwords')\n",
    "def text_process(text):\n",
    "    \"\"\"\n",
    "    Takes in a string of text, then performs the following:\n",
    "    1. Remove all punctuation\n",
    "    2. Remove all stopwords\n",
    "    3. Returns a list of the cleaned text\n",
    "    \"\"\"\n",
    "    # Check characters to see if they are in punctuation\n",
    "    if type(text) == float:\n",
    "        text = str(text)\n",
    "    nopunc = [char for char in text if char not in string.punctuation]\n",
    "\n",
    "    # Join the characters again to form the string.\n",
    "    nopunc = ''.join(nopunc)\n",
    "    \n",
    "    # Now just remove any stopwords\n",
    "    return [word for word in nopunc.split() if word.lower() not in stopwords.words('english')]"
   ]
  },
  {
   "cell_type": "code",
   "execution_count": 19,
   "metadata": {},
   "outputs": [
    {
     "name": "stdout",
     "output_type": "stream",
     "text": [
      "['Product', 'came', 'exactly', 'described', 'would', 'recommend', 'getting', 'like', 'galaxy', 's3', 'would', 'give', 'product', '5', 'star']\n"
     ]
    }
   ],
   "source": [
    "X[0]\n",
    "print(text_process(X[0]))"
   ]
  },
  {
   "cell_type": "markdown",
   "metadata": {},
   "source": [
    "## Vectorisation"
   ]
  },
  {
   "cell_type": "code",
   "execution_count": 20,
   "metadata": {
    "collapsed": true
   },
   "outputs": [],
   "source": [
    "from sklearn.feature_extraction.text import CountVectorizer"
   ]
  },
  {
   "cell_type": "code",
   "execution_count": 21,
   "metadata": {
    "collapsed": true
   },
   "outputs": [],
   "source": [
    "bow_transformer = CountVectorizer(analyzer=text_process).fit(X)"
   ]
  },
  {
   "cell_type": "code",
   "execution_count": 22,
   "metadata": {},
   "outputs": [
    {
     "name": "stdout",
     "output_type": "stream",
     "text": [
      "what\n",
      "186926\n"
     ]
    }
   ],
   "source": [
    "\n",
    "print('what')\n",
    "print(len(bow_transformer.vocabulary_))"
   ]
  },
  {
   "cell_type": "code",
   "execution_count": 23,
   "metadata": {},
   "outputs": [
    {
     "name": "stdout",
     "output_type": "stream",
     "text": [
      "I love it except that it is too big for my small New York appartment. Ideal if you have space.\n"
     ]
    }
   ],
   "source": [
    "review25 = X[24]\n",
    "print(review25)"
   ]
  },
  {
   "cell_type": "code",
   "execution_count": 24,
   "metadata": {},
   "outputs": [
    {
     "name": "stdout",
     "output_type": "stream",
     "text": [
      "  (0, 28501)\t1\n",
      "  (0, 35573)\t1\n",
      "  (0, 54382)\t1\n",
      "  (0, 60377)\t1\n",
      "  (0, 65902)\t1\n",
      "  (0, 94758)\t1\n",
      "  (0, 121100)\t1\n",
      "  (0, 160623)\t1\n",
      "  (0, 162524)\t1\n",
      "(1, 186926)\n"
     ]
    }
   ],
   "source": [
    "bow25 = bow_transformer.transform([review25])\n",
    "print(bow25)\n",
    "print(bow25.shape)"
   ]
  },
  {
   "cell_type": "code",
   "execution_count": 25,
   "metadata": {},
   "outputs": [
    {
     "name": "stdout",
     "output_type": "stream",
     "text": [
      "Ideal\n",
      "New\n"
     ]
    }
   ],
   "source": [
    "print(bow_transformer.get_feature_names()[28501])\n",
    "print(bow_transformer.get_feature_names()[35573])"
   ]
  },
  {
   "cell_type": "code",
   "execution_count": 26,
   "metadata": {
    "collapsed": true
   },
   "outputs": [],
   "source": [
    "X = bow_transformer.transform(X)"
   ]
  },
  {
   "cell_type": "code",
   "execution_count": 27,
   "metadata": {},
   "outputs": [
    {
     "data": {
      "text/plain": [
       "<120316x186926 sparse matrix of type '<class 'numpy.int64'>'\n",
       "\twith 4813399 stored elements in Compressed Sparse Row format>"
      ]
     },
     "execution_count": 27,
     "metadata": {},
     "output_type": "execute_result"
    }
   ],
   "source": [
    "X"
   ]
  },
  {
   "cell_type": "code",
   "execution_count": 28,
   "metadata": {},
   "outputs": [
    {
     "name": "stdout",
     "output_type": "stream",
     "text": [
      "Shape of Sparse Matrix:  (120316, 186926)\n",
      "Amount of Non-Zero occurences:  4813399\n"
     ]
    }
   ],
   "source": [
    "print('Shape of Sparse Matrix: ', X.shape)\n",
    "print('Amount of Non-Zero occurences: ', X.nnz)"
   ]
  },
  {
   "cell_type": "code",
   "execution_count": 29,
   "metadata": {},
   "outputs": [
    {
     "name": "stdout",
     "output_type": "stream",
     "text": [
      "density: 0.021402217127586227\n"
     ]
    }
   ],
   "source": [
    "density = (100.0 * X.nnz / (X.shape[0] * X.shape[1]))\n",
    "print('density: {}'.format((density)))"
   ]
  },
  {
   "cell_type": "markdown",
   "metadata": {},
   "source": [
    "## Train Test Split\n",
    "Test size: 30%"
   ]
  },
  {
   "cell_type": "code",
   "execution_count": 30,
   "metadata": {
    "collapsed": true
   },
   "outputs": [],
   "source": [
    "from sklearn.model_selection import train_test_split"
   ]
  },
  {
   "cell_type": "code",
   "execution_count": 31,
   "metadata": {
    "collapsed": true
   },
   "outputs": [],
   "source": [
    "X_train, X_test, y_train, y_test = train_test_split(X, y, test_size=0.3, random_state=101)"
   ]
  },
  {
   "cell_type": "markdown",
   "metadata": {},
   "source": [
    "## Build and train model\n",
    "Multinomial Naive Bayes model"
   ]
  },
  {
   "cell_type": "code",
   "execution_count": 32,
   "metadata": {
    "collapsed": true
   },
   "outputs": [],
   "source": [
    "from sklearn.naive_bayes import MultinomialNB\n",
    "nb = MultinomialNB()"
   ]
  },
  {
   "cell_type": "code",
   "execution_count": 33,
   "metadata": {},
   "outputs": [
    {
     "data": {
      "text/plain": [
       "MultinomialNB(alpha=1.0, class_prior=None, fit_prior=True)"
      ]
     },
     "execution_count": 33,
     "metadata": {},
     "output_type": "execute_result"
    }
   ],
   "source": [
    "nb.fit(X_train, y_train)"
   ]
  },
  {
   "cell_type": "markdown",
   "metadata": {},
   "source": [
    "## Predictions and Evaluations\n",
    "Predictions"
   ]
  },
  {
   "cell_type": "code",
   "execution_count": 53,
   "metadata": {
    "collapsed": true
   },
   "outputs": [],
   "source": [
    "prediction = dict()\n",
    "prediction['Multinomial'] = nb.predict(X_test)\n",
    "preds = nb.predict(X_test)"
   ]
  },
  {
   "cell_type": "code",
   "execution_count": 35,
   "metadata": {
    "collapsed": true
   },
   "outputs": [],
   "source": [
    "from sklearn.metrics import confusion_matrix, classification_report"
   ]
  },
  {
   "cell_type": "code",
   "execution_count": 36,
   "metadata": {
    "scrolled": true
   },
   "outputs": [
    {
     "name": "stdout",
     "output_type": "stream",
     "text": [
      "[[ 9562  1221]\n",
      " [ 1654 23658]]\n",
      "\n",
      "\n",
      "             precision    recall  f1-score   support\n",
      "\n",
      "          1       0.85      0.89      0.87     10783\n",
      "          5       0.95      0.93      0.94     25312\n",
      "\n",
      "avg / total       0.92      0.92      0.92     36095\n",
      "\n"
     ]
    }
   ],
   "source": [
    "print(confusion_matrix(y_test, preds))\n",
    "print('\\n')\n",
    "print(classification_report(y_test, preds))"
   ]
  },
  {
   "cell_type": "code",
   "execution_count": 46,
   "metadata": {
    "collapsed": true
   },
   "outputs": [],
   "source": [
    "from sklearn.naive_bayes import BernoulliNB\n",
    "model = BernoulliNB().fit(X_train,y_train) "
   ]
  },
  {
   "cell_type": "code",
   "execution_count": 54,
   "metadata": {
    "collapsed": true
   },
   "outputs": [],
   "source": [
    "prediction['Bernoulli'] = model.predict(X_test)\n",
    "predsBNB = model.predict(X_test)"
   ]
  },
  {
   "cell_type": "code",
   "execution_count": 48,
   "metadata": {},
   "outputs": [
    {
     "name": "stdout",
     "output_type": "stream",
     "text": [
      "[[ 9004  1779]\n",
      " [ 1122 24190]]\n",
      "\n",
      "\n",
      "             precision    recall  f1-score   support\n",
      "\n",
      "          1       0.89      0.84      0.86     10783\n",
      "          5       0.93      0.96      0.94     25312\n",
      "\n",
      "avg / total       0.92      0.92      0.92     36095\n",
      "\n"
     ]
    }
   ],
   "source": [
    "print(confusion_matrix(y_test, predsBNB))\n",
    "print('\\n')\n",
    "print(classification_report(y_test, predsBNB))"
   ]
  },
  {
   "cell_type": "code",
   "execution_count": 55,
   "metadata": {
    "collapsed": true
   },
   "outputs": [],
   "source": [
    "from sklearn.linear_model import LogisticRegression\n",
    "\n",
    "logreg = LogisticRegression(C=1e5)\n",
    "logreg_result = logreg.fit(X_train, y_train)\n",
    "prediction['Logistic'] = logreg.predict(X_test)\n",
    "predsLR = logreg.predict(X_test)"
   ]
  },
  {
   "cell_type": "code",
   "execution_count": 50,
   "metadata": {},
   "outputs": [
    {
     "name": "stdout",
     "output_type": "stream",
     "text": [
      "[[ 9551  1232]\n",
      " [ 1169 24143]]\n",
      "\n",
      "\n",
      "             precision    recall  f1-score   support\n",
      "\n",
      "          1       0.89      0.89      0.89     10783\n",
      "          5       0.95      0.95      0.95     25312\n",
      "\n",
      "avg / total       0.93      0.93      0.93     36095\n",
      "\n"
     ]
    }
   ],
   "source": [
    "print(confusion_matrix(y_test, predsLR))\n",
    "print('\\n')\n",
    "print(classification_report(y_test, predsLR))"
   ]
  },
  {
   "cell_type": "code",
   "execution_count": 57,
   "metadata": {},
   "outputs": [
    {
     "name": "stderr",
     "output_type": "stream",
     "text": [
      "/Users/divyabharti/anaconda3/lib/python3.6/site-packages/sklearn/metrics/ranking.py:563: UndefinedMetricWarning: No negative samples in y_true, false positive value should be meaningless\n",
      "  UndefinedMetricWarning)\n"
     ]
    },
    {
     "ename": "ValueError",
     "evalue": "At least 2 points are needed to compute area under curve, but x.shape = 1",
     "output_type": "error",
     "traceback": [
      "\u001b[0;31m---------------------------------------------------------------------------\u001b[0m",
      "\u001b[0;31mValueError\u001b[0m                                Traceback (most recent call last)",
      "\u001b[0;32m<ipython-input-57-dadfb98ab486>\u001b[0m in \u001b[0;36m<module>\u001b[0;34m()\u001b[0m\n\u001b[1;32m     11\u001b[0m \u001b[0;32mfor\u001b[0m \u001b[0mmodel\u001b[0m\u001b[0;34m,\u001b[0m \u001b[0mpredicted\u001b[0m \u001b[0;32min\u001b[0m \u001b[0mprediction\u001b[0m\u001b[0;34m.\u001b[0m\u001b[0mitems\u001b[0m\u001b[0;34m(\u001b[0m\u001b[0;34m)\u001b[0m\u001b[0;34m:\u001b[0m\u001b[0;34m\u001b[0m\u001b[0m\n\u001b[1;32m     12\u001b[0m     \u001b[0mfalse_positive_rate\u001b[0m\u001b[0;34m,\u001b[0m \u001b[0mtrue_positive_rate\u001b[0m\u001b[0;34m,\u001b[0m \u001b[0mthresholds\u001b[0m \u001b[0;34m=\u001b[0m \u001b[0mroc_curve\u001b[0m\u001b[0;34m(\u001b[0m\u001b[0my_test\u001b[0m\u001b[0;34m.\u001b[0m\u001b[0mmap\u001b[0m\u001b[0;34m(\u001b[0m\u001b[0mformatt\u001b[0m\u001b[0;34m)\u001b[0m\u001b[0;34m,\u001b[0m \u001b[0mvfunc\u001b[0m\u001b[0;34m(\u001b[0m\u001b[0mpredicted\u001b[0m\u001b[0;34m)\u001b[0m\u001b[0;34m)\u001b[0m\u001b[0;34m\u001b[0m\u001b[0m\n\u001b[0;32m---> 13\u001b[0;31m     \u001b[0mroc_auc\u001b[0m \u001b[0;34m=\u001b[0m \u001b[0mauc\u001b[0m\u001b[0;34m(\u001b[0m\u001b[0mfalse_positive_rate\u001b[0m\u001b[0;34m,\u001b[0m \u001b[0mtrue_positive_rate\u001b[0m\u001b[0;34m)\u001b[0m\u001b[0;34m\u001b[0m\u001b[0m\n\u001b[0m\u001b[1;32m     14\u001b[0m     \u001b[0mplt\u001b[0m\u001b[0;34m.\u001b[0m\u001b[0mplot\u001b[0m\u001b[0;34m(\u001b[0m\u001b[0mfalse_positive_rate\u001b[0m\u001b[0;34m,\u001b[0m \u001b[0mtrue_positive_rate\u001b[0m\u001b[0;34m,\u001b[0m \u001b[0mcolors\u001b[0m\u001b[0;34m[\u001b[0m\u001b[0mcmp\u001b[0m\u001b[0;34m]\u001b[0m\u001b[0;34m,\u001b[0m \u001b[0mlabel\u001b[0m\u001b[0;34m=\u001b[0m\u001b[0;34m'%s: AUC %0.2f'\u001b[0m\u001b[0;34m%\u001b[0m \u001b[0;34m(\u001b[0m\u001b[0mmodel\u001b[0m\u001b[0;34m,\u001b[0m\u001b[0mroc_auc\u001b[0m\u001b[0;34m)\u001b[0m\u001b[0;34m)\u001b[0m\u001b[0;34m\u001b[0m\u001b[0m\n\u001b[1;32m     15\u001b[0m     \u001b[0mcmp\u001b[0m \u001b[0;34m+=\u001b[0m \u001b[0;36m1\u001b[0m\u001b[0;34m\u001b[0m\u001b[0m\n",
      "\u001b[0;32m~/anaconda3/lib/python3.6/site-packages/sklearn/metrics/ranking.py\u001b[0m in \u001b[0;36mauc\u001b[0;34m(x, y, reorder)\u001b[0m\n\u001b[1;32m     82\u001b[0m     \u001b[0;32mif\u001b[0m \u001b[0mx\u001b[0m\u001b[0;34m.\u001b[0m\u001b[0mshape\u001b[0m\u001b[0;34m[\u001b[0m\u001b[0;36m0\u001b[0m\u001b[0;34m]\u001b[0m \u001b[0;34m<\u001b[0m \u001b[0;36m2\u001b[0m\u001b[0;34m:\u001b[0m\u001b[0;34m\u001b[0m\u001b[0m\n\u001b[1;32m     83\u001b[0m         raise ValueError('At least 2 points are needed to compute'\n\u001b[0;32m---> 84\u001b[0;31m                          ' area under curve, but x.shape = %s' % x.shape)\n\u001b[0m\u001b[1;32m     85\u001b[0m \u001b[0;34m\u001b[0m\u001b[0m\n\u001b[1;32m     86\u001b[0m     \u001b[0mdirection\u001b[0m \u001b[0;34m=\u001b[0m \u001b[0;36m1\u001b[0m\u001b[0;34m\u001b[0m\u001b[0m\n",
      "\u001b[0;31mValueError\u001b[0m: At least 2 points are needed to compute area under curve, but x.shape = 1"
     ]
    }
   ],
   "source": [
    "from sklearn.metrics import roc_curve,auc\n",
    "\n",
    "def formatt(x):\n",
    "    if x == 'negative':\n",
    "        return 0\n",
    "    return 1\n",
    "vfunc = np.vectorize(formatt)\n",
    "\n",
    "cmp = 0\n",
    "colors = ['b', 'g', 'y', 'm', 'k']\n",
    "for model, predicted in prediction.items():\n",
    "    false_positive_rate, true_positive_rate, thresholds = roc_curve(y_test.map(formatt), vfunc(predicted))\n",
    "    roc_auc = auc(false_positive_rate, true_positive_rate)\n",
    "    plt.plot(false_positive_rate, true_positive_rate, colors[cmp], label='%s: AUC %0.2f'% (model,roc_auc))\n",
    "    cmp += 1\n",
    "\n",
    "plt.title('Classifiers comparaison with ROC')\n",
    "plt.legend(loc='lower right')\n",
    "plt.plot([0,1],[0,1],'r--')\n",
    "plt.xlim([-0.1,1.2])\n",
    "plt.ylim([-0.1,1.2])\n",
    "plt.ylabel('True Positive Rate')\n",
    "plt.xlabel('False Positive Rate')\n",
    "plt.show()"
   ]
  },
  {
   "cell_type": "code",
   "execution_count": 38,
   "metadata": {},
   "outputs": [
    {
     "data": {
      "text/plain": [
       "'-poor reception-misses calls even when it is \"in range\"Generally cheap.  My display has accumulated debris inside the phone so I can\\'t clean it out and it is difficult to read.  When talking to someone it cuts in and out.Paying anything for this phone is '"
      ]
     },
     "execution_count": 38,
     "metadata": {},
     "output_type": "execute_result"
    }
   ],
   "source": [
    "positive_review = amazon_class['Content'][59]\n",
    "positive_review"
   ]
  },
  {
   "cell_type": "code",
   "execution_count": 39,
   "metadata": {},
   "outputs": [
    {
     "data": {
      "text/plain": [
       "<1x186926 sparse matrix of type '<class 'numpy.int64'>'\n",
       "\twith 20 stored elements in Compressed Sparse Row format>"
      ]
     },
     "execution_count": 39,
     "metadata": {},
     "output_type": "execute_result"
    }
   ],
   "source": [
    "positive_review_transformed = bow_transformer.transform([positive_review])\n",
    "positive_review_transformed"
   ]
  },
  {
   "cell_type": "code",
   "execution_count": 40,
   "metadata": {},
   "outputs": [
    {
     "data": {
      "text/plain": [
       "1"
      ]
     },
     "execution_count": 40,
     "metadata": {},
     "output_type": "execute_result"
    }
   ],
   "source": [
    "nb.predict(positive_review_transformed)[0]"
   ]
  },
  {
   "cell_type": "code",
   "execution_count": 51,
   "metadata": {},
   "outputs": [
    {
     "data": {
      "text/plain": [
       "1"
      ]
     },
     "execution_count": 51,
     "metadata": {},
     "output_type": "execute_result"
    }
   ],
   "source": [
    "model.predict(positive_review_transformed)[0]"
   ]
  },
  {
   "cell_type": "code",
   "execution_count": 42,
   "metadata": {},
   "outputs": [
    {
     "data": {
      "text/plain": [
       "'Hello, thank you guys for sharing very useful information about this phone. Here are some new tricks that i found recently:1. In address book, a contact person is not restricted to 4 fields(home, office, cell and email address) only. You can put as much as you want about contact information of one person, say, some person might have more than 1 email address or more than 1 office phone number. Here is how to do: go to the contact person, select Option/Add Entry then you can add any information you want such as new email or work phone. Off course, it will eat up one spot in the memory.2. Customize your email address: your cell-email that your friend send sms to, have the form ten_digit_phone@tmomail.net, for instance 850339XXXX@tmomail.net, you can change to easy-to-remember-email such as yourname@tmomail.net. Here is how to do it: Go to t-mobile.com, log in then select \"Communication\" tab, select \"Text Messaging\", on the left window, at \"Power Messaging feature\", select \"Change my phone\\'s email address\".On this, you can creat spam/keyword filter or forwarding email or set up alert to your cellphone.3. To know how many anytime minutes you used so far: just send sms to #646# number (#MIN#), the system will instantly reply you. The nice thing is you do not pay for this message (both sending and receiving) and you can check as often as you wish. It updates pretty fast.4. Send one sms to more than one person:One sms can be sent to a group of people buy putting \",\" between people email addresses or tel numbers.Although this phone has some minor drawbacks but with t-mobile carrier, it provides great quality and services more than I expected (compare with some poor services provided by my old carrier CINGULAR)'"
      ]
     },
     "execution_count": 42,
     "metadata": {},
     "output_type": "execute_result"
    }
   ],
   "source": [
    "negative_review = amazon_class['Content'][281]\n",
    "negative_review"
   ]
  },
  {
   "cell_type": "code",
   "execution_count": 43,
   "metadata": {},
   "outputs": [
    {
     "data": {
      "text/plain": [
       "<1x186926 sparse matrix of type '<class 'numpy.int64'>'\n",
       "\twith 119 stored elements in Compressed Sparse Row format>"
      ]
     },
     "execution_count": 43,
     "metadata": {},
     "output_type": "execute_result"
    }
   ],
   "source": [
    "negative_review_transformed = bow_transformer.transform([negative_review])\n",
    "negative_review_transformed"
   ]
  },
  {
   "cell_type": "code",
   "execution_count": 44,
   "metadata": {},
   "outputs": [
    {
     "data": {
      "text/plain": [
       "1"
      ]
     },
     "execution_count": 44,
     "metadata": {},
     "output_type": "execute_result"
    }
   ],
   "source": [
    "nb.predict(negative_review_transformed)[0]"
   ]
  },
  {
   "cell_type": "code",
   "execution_count": null,
   "metadata": {
    "collapsed": true
   },
   "outputs": [],
   "source": []
  }
 ],
 "metadata": {
  "kernelspec": {
   "display_name": "Python 3",
   "language": "python",
   "name": "python3"
  },
  "language_info": {
   "codemirror_mode": {
    "name": "ipython",
    "version": 3
   },
   "file_extension": ".py",
   "mimetype": "text/x-python",
   "name": "python",
   "nbconvert_exporter": "python",
   "pygments_lexer": "ipython3",
   "version": "3.6.4"
  }
 },
 "nbformat": 4,
 "nbformat_minor": 1
}
